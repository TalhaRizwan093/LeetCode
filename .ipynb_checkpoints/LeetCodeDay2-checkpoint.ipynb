{
 "cells": [
  {
   "cell_type": "markdown",
   "id": "f1d41f85-d0c2-466a-8bc8-5bb878a1de1a",
   "metadata": {},
   "source": [
    "#242. Valid Anagram"
   ]
  },
  {
   "cell_type": "code",
   "execution_count": 12,
   "id": "f2cfe4ac-e641-4497-91de-fcd6e32e9e7b",
   "metadata": {},
   "outputs": [
    {
     "name": "stdout",
     "output_type": "stream",
     "text": [
      "false\n",
      "{'a': 1, 'n': 0, 'g': 0, 'r': 0, 'm': 0}\n"
     ]
    }
   ],
   "source": [
    "s = \"anagram\"\n",
    "t = \"nagardm\"\n",
    "if(len(s) == len(t)):\n",
    "    s_map = {}\n",
    "    for i in s:\n",
    "        if(i in s_map):\n",
    "            s_map[i] += 1\n",
    "        else:\n",
    "            s_map[i] = 1\n",
    "    \n",
    "    for i in t:\n",
    "        if(i in s_map and s_map[i] != 0):\n",
    "            s_map[i] -= 1\n",
    "        else:\n",
    "            print(\"false\")\n",
    "    print(s_map)\n",
    "            \n",
    "else:\n",
    "    print(\"false\")\n"
   ]
  },
  {
   "cell_type": "code",
   "execution_count": 36,
   "id": "968162bb-78c5-4452-8152-f26ef2eef0f4",
   "metadata": {},
   "outputs": [
    {
     "name": "stdout",
     "output_type": "stream",
     "text": [
      "True\n"
     ]
    }
   ],
   "source": [
    "s = \"anagram\"\n",
    "t = \"nagaram\"\n",
    "if(len(s) == len(t)):\n",
    "    iterator = 0\n",
    "    s_map = {}\n",
    "    for i in s:\n",
    "        if(i in s_map):\n",
    "            s_map[i] += 1\n",
    "        else:\n",
    "            s_map[i] = 1\n",
    "\n",
    "        if(t[iterator] in s_map):\n",
    "            s_map[t[iterator]] -= 1\n",
    "        else:\n",
    "            s_map[t[iterator]] = -1\n",
    "        \n",
    "        iterator += 1\n",
    "\n",
    "    print(any(value < 0 for value in s_map.values()))\n",
    "    # if(value < 0 for value in my_dict.values())\n",
    "else:\n",
    "    print(\"False\")\n",
    "        \n"
   ]
  },
  {
   "cell_type": "code",
   "execution_count": null,
   "id": "7aada5cf-c328-4adc-a25d-fee0e5b34e07",
   "metadata": {},
   "outputs": [],
   "source": []
  }
 ],
 "metadata": {
  "kernelspec": {
   "display_name": "Python 3 (ipykernel)",
   "language": "python",
   "name": "python3"
  },
  "language_info": {
   "codemirror_mode": {
    "name": "ipython",
    "version": 3
   },
   "file_extension": ".py",
   "mimetype": "text/x-python",
   "name": "python",
   "nbconvert_exporter": "python",
   "pygments_lexer": "ipython3",
   "version": "3.11.7"
  }
 },
 "nbformat": 4,
 "nbformat_minor": 5
}
