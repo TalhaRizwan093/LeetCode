{
 "cells": [
  {
   "cell_type": "markdown",
   "id": "d669b066-2f45-48d6-9c80-976d70d0a52d",
   "metadata": {},
   "source": [
    "#217. Contains Duplicate"
   ]
  },
  {
   "cell_type": "code",
   "execution_count": 36,
   "id": "30a5ba9a-3027-4e00-8b37-b84301951770",
   "metadata": {},
   "outputs": [
    {
     "name": "stdout",
     "output_type": "stream",
     "text": [
      "1\n",
      "2\n",
      "3\n",
      "{0: 0, 1: 0, 2: 0, 3: 0}\n"
     ]
    }
   ],
   "source": [
    "nums = [0,1,2,3]\n",
    "valesInDict = {nums[0] : 0}\n",
    "for i in range(1,len(nums)):\n",
    "    print(nums[i])\n",
    "    if(nums[i] in valesInDict):\n",
    "        print(\"found\")\n",
    "    valesInDict.update({nums[i]:0})\n",
    "print(valesInDict)\n"
   ]
  },
  {
   "cell_type": "code",
   "execution_count": null,
   "id": "77bd6579-12bb-432e-a3f3-5e73d293ea5f",
   "metadata": {},
   "outputs": [],
   "source": [
    "d = {}\n",
    "for num in nums:\n",
    "    if num in d:\n",
    "        return True\n",
    "    d[num] = True"
   ]
  },
  {
   "cell_type": "code",
   "execution_count": null,
   "id": "7f187940-010b-4d81-af8d-e4bfeed36bc3",
   "metadata": {},
   "outputs": [],
   "source": []
  }
 ],
 "metadata": {
  "kernelspec": {
   "display_name": "Python 3 (ipykernel)",
   "language": "python",
   "name": "python3"
  },
  "language_info": {
   "codemirror_mode": {
    "name": "ipython",
    "version": 3
   },
   "file_extension": ".py",
   "mimetype": "text/x-python",
   "name": "python",
   "nbconvert_exporter": "python",
   "pygments_lexer": "ipython3",
   "version": "3.11.7"
  }
 },
 "nbformat": 4,
 "nbformat_minor": 5
}
